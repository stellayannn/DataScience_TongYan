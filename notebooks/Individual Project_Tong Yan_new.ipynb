{
 "cells": [
  {
   "cell_type": "markdown",
   "metadata": {},
   "source": [
    "# T81-577 Applied Data Science Individual Project\n",
    "# Mobile Strategy Games User Rating Prediction\n",
    "# Tong Yan"
   ]
  },
  {
   "cell_type": "markdown",
   "metadata": {},
   "source": [
    "## Table of Contents:"
   ]
  },
  {
   "cell_type": "markdown",
   "metadata": {},
   "source": [
    "- Project Overview\n",
    "\n",
    "\n",
    "- Data Exploration\n",
    "\n",
    "\n",
    "- Data Preprocessing\n",
    "\n",
    "\n",
    "- Predictive Modeling\n",
    "\n",
    "  4.1 Split dataset into train/test\n",
    "\n",
    "  4.2 Create a pipeline\n",
    "\n",
    "  4.3 Model fitting & Making prediction\n",
    "  \n",
    "        4.3.1 Linear Regression\n",
    "\n",
    "        4.3.2 Random Forest\n",
    "\n",
    "        4.3.3 Gradient Boosting\n",
    "\n",
    "- Model Comparasion & Selection\n",
    "\n",
    "\n",
    "- Conclusion\n",
    "\n",
    "\n",
    "- Applications & Limitations\n",
    "    "
   ]
  },
  {
   "cell_type": "markdown",
   "metadata": {},
   "source": [
    "## 1. Project Overview"
   ]
  },
  {
   "cell_type": "markdown",
   "metadata": {},
   "source": [
    "For this project, I will be using the appstore_games dataset to predict the average user ratings of mobile strategy games. I am interested in the distribution of user ratings and the factors that influence the ratings. I will try 3 different regression models, and use Hyperparameter Tuning methods to improve the model performances. Finally, I will choose a final model with the lowest ROOT MEAN SQURE ERROR (RMSE) and output the predicting result for the testing dataset. "
   ]
  },
  {
   "cell_type": "markdown",
   "metadata": {},
   "source": [
    "## 2. Data Exploration"
   ]
  },
  {
   "cell_type": "code",
   "execution_count": 1,
   "metadata": {
    "scrolled": false
   },
   "outputs": [
    {
     "name": "stdout",
     "output_type": "stream",
     "text": [
      "Help on package seaborn:\n",
      "\n",
      "NAME\n",
      "    seaborn - # Capture the original matplotlib rcParams\n",
      "\n",
      "PACKAGE CONTENTS\n",
      "    algorithms\n",
      "    apionly\n",
      "    axisgrid\n",
      "    categorical\n",
      "    cm\n",
      "    colors (package)\n",
      "    conftest\n",
      "    distributions\n",
      "    external (package)\n",
      "    linearmodels\n",
      "    matrix\n",
      "    miscplot\n",
      "    palettes\n",
      "    rcmod\n",
      "    regression\n",
      "    relational\n",
      "    tests (package)\n",
      "    timeseries\n",
      "    utils\n",
      "    widgets\n",
      "\n",
      "DATA\n",
      "    crayons = {'Almond': '#EFDECD', 'Antique Brass': '#CD9575', 'Apricot':...\n",
      "    xkcd_rgb = {'acid green': '#8ffe09', 'adobe': '#bd6c48', 'algae': '#54...\n",
      "\n",
      "VERSION\n",
      "    0.10.0\n",
      "\n",
      "FILE\n",
      "    /opt/anaconda3/envs/tensorflow/lib/python3.7/site-packages/seaborn/__init__.py\n",
      "\n",
      "\n"
     ]
    }
   ],
   "source": [
    "import pandas as pd\n",
    "import numpy as np\n",
    "import matplotlib.pyplot as plt\n",
    "import seaborn as sns\n",
    "import warnings\n",
    "\n",
    "help(sns)"
   ]
  },
  {
   "cell_type": "code",
   "execution_count": 2,
   "metadata": {
    "scrolled": false
   },
   "outputs": [
    {
     "name": "stdout",
     "output_type": "stream",
     "text": [
      "<class 'pandas.core.frame.DataFrame'>\n",
      "RangeIndex: 17007 entries, 0 to 17006\n",
      "Data columns (total 18 columns):\n",
      "URL                             17007 non-null object\n",
      "ID                              17007 non-null int64\n",
      "Name                            17007 non-null object\n",
      "Subtitle                        5261 non-null object\n",
      "Icon URL                        17007 non-null object\n",
      "Average User Rating             7561 non-null float64\n",
      "User Rating Count               7561 non-null float64\n",
      "Price                           16983 non-null float64\n",
      "In-app Purchases                7683 non-null object\n",
      "Description                     17007 non-null object\n",
      "Developer                       17007 non-null object\n",
      "Age Rating                      17007 non-null object\n",
      "Languages                       16947 non-null object\n",
      "Size                            17006 non-null float64\n",
      "Primary Genre                   17007 non-null object\n",
      "Genres                          17007 non-null object\n",
      "Original Release Date           17007 non-null object\n",
      "Current Version Release Date    17007 non-null object\n",
      "dtypes: float64(4), int64(1), object(13)\n",
      "memory usage: 2.3+ MB\n"
     ]
    }
   ],
   "source": [
    "# Have a primary look at the dataset\n",
    "df = pd.read_csv('https://raw.githubusercontent.com/stellayannn/DataScience_TongYan/master/data/appstore_games.csv', na_values = ['NA', '?'])\n",
    "df.info()"
   ]
  },
  {
   "cell_type": "code",
   "execution_count": 3,
   "metadata": {},
   "outputs": [
    {
     "data": {
      "text/plain": [
       "URL                                 0\n",
       "ID                                  0\n",
       "Name                                0\n",
       "Subtitle                        11746\n",
       "Icon URL                            0\n",
       "Average User Rating              9446\n",
       "User Rating Count                9446\n",
       "Price                              24\n",
       "In-app Purchases                 9324\n",
       "Description                         0\n",
       "Developer                           0\n",
       "Age Rating                          0\n",
       "Languages                          60\n",
       "Size                                1\n",
       "Primary Genre                       0\n",
       "Genres                              0\n",
       "Original Release Date               0\n",
       "Current Version Release Date        0\n",
       "dtype: int64"
      ]
     },
     "execution_count": 3,
     "metadata": {},
     "output_type": "execute_result"
    }
   ],
   "source": [
    "df.isnull().sum()"
   ]
  },
  {
   "cell_type": "code",
   "execution_count": 4,
   "metadata": {},
   "outputs": [
    {
     "data": {
      "text/html": [
       "<div>\n",
       "<style scoped>\n",
       "    .dataframe tbody tr th:only-of-type {\n",
       "        vertical-align: middle;\n",
       "    }\n",
       "\n",
       "    .dataframe tbody tr th {\n",
       "        vertical-align: top;\n",
       "    }\n",
       "\n",
       "    .dataframe thead th {\n",
       "        text-align: right;\n",
       "    }\n",
       "</style>\n",
       "<table border=\"1\" class=\"dataframe\">\n",
       "  <thead>\n",
       "    <tr style=\"text-align: right;\">\n",
       "      <th></th>\n",
       "      <th>URL</th>\n",
       "      <th>ID</th>\n",
       "      <th>Name</th>\n",
       "      <th>Subtitle</th>\n",
       "      <th>Icon URL</th>\n",
       "      <th>Average User Rating</th>\n",
       "      <th>User Rating Count</th>\n",
       "      <th>Price</th>\n",
       "      <th>In-app Purchases</th>\n",
       "      <th>Description</th>\n",
       "      <th>Developer</th>\n",
       "      <th>Age Rating</th>\n",
       "      <th>Languages</th>\n",
       "      <th>Size</th>\n",
       "      <th>Primary Genre</th>\n",
       "      <th>Genres</th>\n",
       "      <th>Original Release Date</th>\n",
       "      <th>Current Version Release Date</th>\n",
       "    </tr>\n",
       "  </thead>\n",
       "  <tbody>\n",
       "    <tr>\n",
       "      <th>0</th>\n",
       "      <td>https://apps.apple.com/us/app/sudoku/id284921427</td>\n",
       "      <td>284921427</td>\n",
       "      <td>Sudoku</td>\n",
       "      <td>NaN</td>\n",
       "      <td>https://is2-ssl.mzstatic.com/image/thumb/Purpl...</td>\n",
       "      <td>4.0</td>\n",
       "      <td>3553.0</td>\n",
       "      <td>2.99</td>\n",
       "      <td>NaN</td>\n",
       "      <td>Join over 21,000,000 of our fans and download ...</td>\n",
       "      <td>Mighty Mighty Good Games</td>\n",
       "      <td>4+</td>\n",
       "      <td>DA, NL, EN, FI, FR, DE, IT, JA, KO, NB, PL, PT...</td>\n",
       "      <td>15853568.0</td>\n",
       "      <td>Games</td>\n",
       "      <td>Games, Strategy, Puzzle</td>\n",
       "      <td>11/07/2008</td>\n",
       "      <td>30/05/2017</td>\n",
       "    </tr>\n",
       "    <tr>\n",
       "      <th>1</th>\n",
       "      <td>https://apps.apple.com/us/app/reversi/id284926400</td>\n",
       "      <td>284926400</td>\n",
       "      <td>Reversi</td>\n",
       "      <td>NaN</td>\n",
       "      <td>https://is4-ssl.mzstatic.com/image/thumb/Purpl...</td>\n",
       "      <td>3.5</td>\n",
       "      <td>284.0</td>\n",
       "      <td>1.99</td>\n",
       "      <td>NaN</td>\n",
       "      <td>The classic game of Reversi, also known as Oth...</td>\n",
       "      <td>Kiss The Machine</td>\n",
       "      <td>4+</td>\n",
       "      <td>EN</td>\n",
       "      <td>12328960.0</td>\n",
       "      <td>Games</td>\n",
       "      <td>Games, Strategy, Board</td>\n",
       "      <td>11/07/2008</td>\n",
       "      <td>17/05/2018</td>\n",
       "    </tr>\n",
       "    <tr>\n",
       "      <th>2</th>\n",
       "      <td>https://apps.apple.com/us/app/morocco/id284946595</td>\n",
       "      <td>284946595</td>\n",
       "      <td>Morocco</td>\n",
       "      <td>NaN</td>\n",
       "      <td>https://is5-ssl.mzstatic.com/image/thumb/Purpl...</td>\n",
       "      <td>3.0</td>\n",
       "      <td>8376.0</td>\n",
       "      <td>0.00</td>\n",
       "      <td>NaN</td>\n",
       "      <td>Play the classic strategy game Othello (also k...</td>\n",
       "      <td>Bayou Games</td>\n",
       "      <td>4+</td>\n",
       "      <td>EN</td>\n",
       "      <td>674816.0</td>\n",
       "      <td>Games</td>\n",
       "      <td>Games, Board, Strategy</td>\n",
       "      <td>11/07/2008</td>\n",
       "      <td>5/09/2017</td>\n",
       "    </tr>\n",
       "    <tr>\n",
       "      <th>3</th>\n",
       "      <td>https://apps.apple.com/us/app/sudoku-free/id28...</td>\n",
       "      <td>285755462</td>\n",
       "      <td>Sudoku (Free)</td>\n",
       "      <td>NaN</td>\n",
       "      <td>https://is3-ssl.mzstatic.com/image/thumb/Purpl...</td>\n",
       "      <td>3.5</td>\n",
       "      <td>190394.0</td>\n",
       "      <td>0.00</td>\n",
       "      <td>NaN</td>\n",
       "      <td>Top 100 free app for over a year.\\nRated \"Best...</td>\n",
       "      <td>Mighty Mighty Good Games</td>\n",
       "      <td>4+</td>\n",
       "      <td>DA, NL, EN, FI, FR, DE, IT, JA, KO, NB, PL, PT...</td>\n",
       "      <td>21552128.0</td>\n",
       "      <td>Games</td>\n",
       "      <td>Games, Strategy, Puzzle</td>\n",
       "      <td>23/07/2008</td>\n",
       "      <td>30/05/2017</td>\n",
       "    </tr>\n",
       "    <tr>\n",
       "      <th>4</th>\n",
       "      <td>https://apps.apple.com/us/app/senet-deluxe/id2...</td>\n",
       "      <td>285831220</td>\n",
       "      <td>Senet Deluxe</td>\n",
       "      <td>NaN</td>\n",
       "      <td>https://is1-ssl.mzstatic.com/image/thumb/Purpl...</td>\n",
       "      <td>3.5</td>\n",
       "      <td>28.0</td>\n",
       "      <td>2.99</td>\n",
       "      <td>NaN</td>\n",
       "      <td>\"Senet Deluxe - The Ancient Game of Life and A...</td>\n",
       "      <td>RoGame Software</td>\n",
       "      <td>4+</td>\n",
       "      <td>DA, NL, EN, FR, DE, EL, IT, JA, KO, NO, PT, RU...</td>\n",
       "      <td>34689024.0</td>\n",
       "      <td>Games</td>\n",
       "      <td>Games, Strategy, Board, Education</td>\n",
       "      <td>18/07/2008</td>\n",
       "      <td>22/07/2018</td>\n",
       "    </tr>\n",
       "  </tbody>\n",
       "</table>\n",
       "</div>"
      ],
      "text/plain": [
       "                                                 URL         ID  \\\n",
       "0   https://apps.apple.com/us/app/sudoku/id284921427  284921427   \n",
       "1  https://apps.apple.com/us/app/reversi/id284926400  284926400   \n",
       "2  https://apps.apple.com/us/app/morocco/id284946595  284946595   \n",
       "3  https://apps.apple.com/us/app/sudoku-free/id28...  285755462   \n",
       "4  https://apps.apple.com/us/app/senet-deluxe/id2...  285831220   \n",
       "\n",
       "            Name Subtitle                                           Icon URL  \\\n",
       "0         Sudoku      NaN  https://is2-ssl.mzstatic.com/image/thumb/Purpl...   \n",
       "1        Reversi      NaN  https://is4-ssl.mzstatic.com/image/thumb/Purpl...   \n",
       "2        Morocco      NaN  https://is5-ssl.mzstatic.com/image/thumb/Purpl...   \n",
       "3  Sudoku (Free)      NaN  https://is3-ssl.mzstatic.com/image/thumb/Purpl...   \n",
       "4   Senet Deluxe      NaN  https://is1-ssl.mzstatic.com/image/thumb/Purpl...   \n",
       "\n",
       "   Average User Rating  User Rating Count  Price In-app Purchases  \\\n",
       "0                  4.0             3553.0   2.99              NaN   \n",
       "1                  3.5              284.0   1.99              NaN   \n",
       "2                  3.0             8376.0   0.00              NaN   \n",
       "3                  3.5           190394.0   0.00              NaN   \n",
       "4                  3.5               28.0   2.99              NaN   \n",
       "\n",
       "                                         Description  \\\n",
       "0  Join over 21,000,000 of our fans and download ...   \n",
       "1  The classic game of Reversi, also known as Oth...   \n",
       "2  Play the classic strategy game Othello (also k...   \n",
       "3  Top 100 free app for over a year.\\nRated \"Best...   \n",
       "4  \"Senet Deluxe - The Ancient Game of Life and A...   \n",
       "\n",
       "                  Developer Age Rating  \\\n",
       "0  Mighty Mighty Good Games         4+   \n",
       "1          Kiss The Machine         4+   \n",
       "2               Bayou Games         4+   \n",
       "3  Mighty Mighty Good Games         4+   \n",
       "4           RoGame Software         4+   \n",
       "\n",
       "                                           Languages        Size  \\\n",
       "0  DA, NL, EN, FI, FR, DE, IT, JA, KO, NB, PL, PT...  15853568.0   \n",
       "1                                                 EN  12328960.0   \n",
       "2                                                 EN    674816.0   \n",
       "3  DA, NL, EN, FI, FR, DE, IT, JA, KO, NB, PL, PT...  21552128.0   \n",
       "4  DA, NL, EN, FR, DE, EL, IT, JA, KO, NO, PT, RU...  34689024.0   \n",
       "\n",
       "  Primary Genre                             Genres Original Release Date  \\\n",
       "0         Games            Games, Strategy, Puzzle            11/07/2008   \n",
       "1         Games             Games, Strategy, Board            11/07/2008   \n",
       "2         Games             Games, Board, Strategy            11/07/2008   \n",
       "3         Games            Games, Strategy, Puzzle            23/07/2008   \n",
       "4         Games  Games, Strategy, Board, Education            18/07/2008   \n",
       "\n",
       "  Current Version Release Date  \n",
       "0                   30/05/2017  \n",
       "1                   17/05/2018  \n",
       "2                    5/09/2017  \n",
       "3                   30/05/2017  \n",
       "4                   22/07/2018  "
      ]
     },
     "execution_count": 4,
     "metadata": {},
     "output_type": "execute_result"
    }
   ],
   "source": [
    "df.head(5)"
   ]
  },
  {
   "cell_type": "code",
   "execution_count": 5,
   "metadata": {},
   "outputs": [],
   "source": [
    "# Drop useless columns\n",
    "df = df.drop(['URL','ID','Name','Icon URL', 'Primary Genre', 'Subtitle', 'Description', 'Developer', 'Languages', \n",
    "               'Original Release Date', 'Current Version Release Date'], axis = 1)\n",
    "df.columns = ['ave_rating', 'rating_count', 'price', 'inapp_purchase', 'age_rating', 'size', 'genre']"
   ]
  },
  {
   "cell_type": "code",
   "execution_count": 6,
   "metadata": {},
   "outputs": [
    {
     "data": {
      "text/html": [
       "<div>\n",
       "<style scoped>\n",
       "    .dataframe tbody tr th:only-of-type {\n",
       "        vertical-align: middle;\n",
       "    }\n",
       "\n",
       "    .dataframe tbody tr th {\n",
       "        vertical-align: top;\n",
       "    }\n",
       "\n",
       "    .dataframe thead th {\n",
       "        text-align: right;\n",
       "    }\n",
       "</style>\n",
       "<table border=\"1\" class=\"dataframe\">\n",
       "  <thead>\n",
       "    <tr style=\"text-align: right;\">\n",
       "      <th></th>\n",
       "      <th>ave_rating</th>\n",
       "      <th>rating_count</th>\n",
       "      <th>price</th>\n",
       "      <th>inapp_purchase</th>\n",
       "      <th>age_rating</th>\n",
       "      <th>size</th>\n",
       "      <th>genre</th>\n",
       "    </tr>\n",
       "  </thead>\n",
       "  <tbody>\n",
       "    <tr>\n",
       "      <th>0</th>\n",
       "      <td>4.0</td>\n",
       "      <td>3553.0</td>\n",
       "      <td>2.99</td>\n",
       "      <td>NaN</td>\n",
       "      <td>4+</td>\n",
       "      <td>15853568.0</td>\n",
       "      <td>Games, Strategy, Puzzle</td>\n",
       "    </tr>\n",
       "    <tr>\n",
       "      <th>1</th>\n",
       "      <td>3.5</td>\n",
       "      <td>284.0</td>\n",
       "      <td>1.99</td>\n",
       "      <td>NaN</td>\n",
       "      <td>4+</td>\n",
       "      <td>12328960.0</td>\n",
       "      <td>Games, Strategy, Board</td>\n",
       "    </tr>\n",
       "    <tr>\n",
       "      <th>2</th>\n",
       "      <td>3.0</td>\n",
       "      <td>8376.0</td>\n",
       "      <td>0.00</td>\n",
       "      <td>NaN</td>\n",
       "      <td>4+</td>\n",
       "      <td>674816.0</td>\n",
       "      <td>Games, Board, Strategy</td>\n",
       "    </tr>\n",
       "    <tr>\n",
       "      <th>3</th>\n",
       "      <td>3.5</td>\n",
       "      <td>190394.0</td>\n",
       "      <td>0.00</td>\n",
       "      <td>NaN</td>\n",
       "      <td>4+</td>\n",
       "      <td>21552128.0</td>\n",
       "      <td>Games, Strategy, Puzzle</td>\n",
       "    </tr>\n",
       "    <tr>\n",
       "      <th>4</th>\n",
       "      <td>3.5</td>\n",
       "      <td>28.0</td>\n",
       "      <td>2.99</td>\n",
       "      <td>NaN</td>\n",
       "      <td>4+</td>\n",
       "      <td>34689024.0</td>\n",
       "      <td>Games, Strategy, Board, Education</td>\n",
       "    </tr>\n",
       "    <tr>\n",
       "      <th>5</th>\n",
       "      <td>3.0</td>\n",
       "      <td>47.0</td>\n",
       "      <td>0.00</td>\n",
       "      <td>1.99</td>\n",
       "      <td>4+</td>\n",
       "      <td>48672768.0</td>\n",
       "      <td>Games, Entertainment, Strategy, Puzzle</td>\n",
       "    </tr>\n",
       "    <tr>\n",
       "      <th>6</th>\n",
       "      <td>2.5</td>\n",
       "      <td>35.0</td>\n",
       "      <td>0.00</td>\n",
       "      <td>NaN</td>\n",
       "      <td>4+</td>\n",
       "      <td>6328320.0</td>\n",
       "      <td>Games, Entertainment, Puzzle, Strategy</td>\n",
       "    </tr>\n",
       "    <tr>\n",
       "      <th>7</th>\n",
       "      <td>2.5</td>\n",
       "      <td>125.0</td>\n",
       "      <td>0.99</td>\n",
       "      <td>NaN</td>\n",
       "      <td>4+</td>\n",
       "      <td>64333824.0</td>\n",
       "      <td>Games, Strategy, Board</td>\n",
       "    </tr>\n",
       "    <tr>\n",
       "      <th>8</th>\n",
       "      <td>2.5</td>\n",
       "      <td>44.0</td>\n",
       "      <td>0.00</td>\n",
       "      <td>NaN</td>\n",
       "      <td>4+</td>\n",
       "      <td>2657280.0</td>\n",
       "      <td>Games, Strategy, Board, Entertainment</td>\n",
       "    </tr>\n",
       "    <tr>\n",
       "      <th>9</th>\n",
       "      <td>2.5</td>\n",
       "      <td>184.0</td>\n",
       "      <td>0.00</td>\n",
       "      <td>NaN</td>\n",
       "      <td>4+</td>\n",
       "      <td>1466515.0</td>\n",
       "      <td>Games, Casual, Strategy</td>\n",
       "    </tr>\n",
       "  </tbody>\n",
       "</table>\n",
       "</div>"
      ],
      "text/plain": [
       "   ave_rating  rating_count  price inapp_purchase age_rating        size  \\\n",
       "0         4.0        3553.0   2.99            NaN         4+  15853568.0   \n",
       "1         3.5         284.0   1.99            NaN         4+  12328960.0   \n",
       "2         3.0        8376.0   0.00            NaN         4+    674816.0   \n",
       "3         3.5      190394.0   0.00            NaN         4+  21552128.0   \n",
       "4         3.5          28.0   2.99            NaN         4+  34689024.0   \n",
       "5         3.0          47.0   0.00           1.99         4+  48672768.0   \n",
       "6         2.5          35.0   0.00            NaN         4+   6328320.0   \n",
       "7         2.5         125.0   0.99            NaN         4+  64333824.0   \n",
       "8         2.5          44.0   0.00            NaN         4+   2657280.0   \n",
       "9         2.5         184.0   0.00            NaN         4+   1466515.0   \n",
       "\n",
       "                                    genre  \n",
       "0                 Games, Strategy, Puzzle  \n",
       "1                  Games, Strategy, Board  \n",
       "2                  Games, Board, Strategy  \n",
       "3                 Games, Strategy, Puzzle  \n",
       "4       Games, Strategy, Board, Education  \n",
       "5  Games, Entertainment, Strategy, Puzzle  \n",
       "6  Games, Entertainment, Puzzle, Strategy  \n",
       "7                  Games, Strategy, Board  \n",
       "8   Games, Strategy, Board, Entertainment  \n",
       "9                 Games, Casual, Strategy  "
      ]
     },
     "execution_count": 6,
     "metadata": {},
     "output_type": "execute_result"
    }
   ],
   "source": [
    "df.head(10)"
   ]
  },
  {
   "cell_type": "code",
   "execution_count": 7,
   "metadata": {},
   "outputs": [
    {
     "data": {
      "text/plain": [
       "[]"
      ]
     },
     "execution_count": 7,
     "metadata": {},
     "output_type": "execute_result"
    },
    {
     "data": {
      "image/png": "[encoded data removed]",
      "text/plain": [
       "<Figure size 720x432 with 1 Axes>"
      ]
     },
     "metadata": {
      "needs_background": "light"
     },
     "output_type": "display_data"
    }
   ],
   "source": [
    "# Have a look at the distribuiton of average rating\n",
    "plt.figure(figsize = (10,6))\n",
    "img1 = sns.countplot(x = df['ave_rating'])\n",
    "img1.set(xlabel = 'average rating', ylabel = 'count')\n",
    "img1.plot()"
   ]
  },
  {
   "cell_type": "code",
   "execution_count": 8,
   "metadata": {},
   "outputs": [
    {
     "data": {
      "text/plain": [
       "[]"
      ]
     },
     "execution_count": 8,
     "metadata": {},
     "output_type": "execute_result"
    },
    {
     "data": {
      "image/png": "[encoded data removed]",
      "text/plain": [
       "<Figure size 1440x720 with 1 Axes>"
      ]
     },
     "metadata": {
      "needs_background": "light"
     },
     "output_type": "display_data"
    }
   ],
   "source": [
    "# Have a look at the distribuiton of price\n",
    "plt.figure(figsize = (20,10))\n",
    "img2 = sns.countplot(x = df['price'])\n",
    "img2.set(xlabel = 'price', ylabel = 'count')\n",
    "img2.plot()"
   ]
  },
  {
   "cell_type": "code",
   "execution_count": 9,
   "metadata": {},
   "outputs": [
    {
     "data": {
      "text/plain": [
       "[]"
      ]
     },
     "execution_count": 9,
     "metadata": {},
     "output_type": "execute_result"
    },
    {
     "data": {
      "image/png": "[encoded data removed]",
      "text/plain": [
       "<Figure size 720x432 with 1 Axes>"
      ]
     },
     "metadata": {
      "needs_background": "light"
     },
     "output_type": "display_data"
    }
   ],
   "source": [
    "# Have a look at the distribuiton of age ratings\n",
    "plt.figure(figsize = (10,6))\n",
    "img3 = sns.countplot(x = df['age_rating'])\n",
    "img3.set(xlabel = 'age rating', ylabel = 'count')\n",
    "img3.plot()"
   ]
  },
  {
   "cell_type": "code",
   "execution_count": 10,
   "metadata": {},
   "outputs": [],
   "source": [
    "# Have a look at the distribuiton of gneres\n",
    "list = []\n",
    "for i in range(len(df)):\n",
    "    for j in df['genre'][i].split(','):\n",
    "        list.append(j)\n",
    "\n",
    "from collections import Counter\n",
    "c = Counter(list)\n",
    "top_genre = pd.DataFrame(c.most_common(20))"
   ]
  },
  {
   "cell_type": "code",
   "execution_count": 11,
   "metadata": {
    "scrolled": false
   },
   "outputs": [
    {
     "data": {
      "text/plain": [
       "[]"
      ]
     },
     "execution_count": 11,
     "metadata": {},
     "output_type": "execute_result"
    },
    {
     "data": {
      "image/png": "[encoded data removed]",
      "text/plain": [
       "<Figure size 1800x720 with 1 Axes>"
      ]
     },
     "metadata": {
      "needs_background": "light"
     },
     "output_type": "display_data"
    }
   ],
   "source": [
    "plt.figure(figsize = (25,10))\n",
    "img4 = sns.barplot(x = top_genre[0], y = top_genre[1])\n",
    "img4.set(xlabel = 'genre', ylabel = 'count')\n",
    "img4.plot()"
   ]
  },
  {
   "cell_type": "code",
   "execution_count": 12,
   "metadata": {},
   "outputs": [
    {
     "data": {
      "text/plain": [
       "[]"
      ]
     },
     "execution_count": 12,
     "metadata": {},
     "output_type": "execute_result"
    },
    {
     "data": {
      "image/png": "[encoded data removed]",
      "text/plain": [
       "<Figure size 1152x576 with 1 Axes>"
      ]
     },
     "metadata": {
      "needs_background": "light"
     },
     "output_type": "display_data"
    }
   ],
   "source": [
    "# Have a look at the distribuiton of app sizes\n",
    "plt.figure(figsize = (16,8))\n",
    "img5 = sns.distplot(df['size'])\n",
    "img5.set(xlabel = 'size', ylabel = 'count')\n",
    "img5.plot()"
   ]
  },
  {
   "cell_type": "markdown",
   "metadata": {},
   "source": [
    "## 3. Data Preprocessing"
   ]
  },
  {
   "cell_type": "code",
   "execution_count": 13,
   "metadata": {},
   "outputs": [],
   "source": [
    "# Drop the rows wihtout 'ave_rating' value\n",
    "df1 = df.drop(df[np.isnan(df['ave_rating'])].index)"
   ]
  },
  {
   "cell_type": "code",
   "execution_count": 14,
   "metadata": {},
   "outputs": [],
   "source": [
    "# Drop the rows wihtout 'size' value\n",
    "df1.drop(df1[np.isnan(df1['size'])].index, inplace = True)\n",
    "\n",
    "# Drop the rows with 'rating_count' less than 5\n",
    "df1.drop(df1[df1['rating_count'] < 5].index, inplace = True)\n",
    "\n",
    "df1.reset_index(inplace = True, drop = True)"
   ]
  },
  {
   "cell_type": "code",
   "execution_count": 15,
   "metadata": {},
   "outputs": [
    {
     "data": {
      "text/html": [
       "<div>\n",
       "<style scoped>\n",
       "    .dataframe tbody tr th:only-of-type {\n",
       "        vertical-align: middle;\n",
       "    }\n",
       "\n",
       "    .dataframe tbody tr th {\n",
       "        vertical-align: top;\n",
       "    }\n",
       "\n",
       "    .dataframe thead th {\n",
       "        text-align: right;\n",
       "    }\n",
       "</style>\n",
       "<table border=\"1\" class=\"dataframe\">\n",
       "  <thead>\n",
       "    <tr style=\"text-align: right;\">\n",
       "      <th></th>\n",
       "      <th>ave_rating</th>\n",
       "      <th>rating_count</th>\n",
       "      <th>price</th>\n",
       "      <th>inapp_purchase</th>\n",
       "      <th>age_rating</th>\n",
       "      <th>size</th>\n",
       "      <th>genre</th>\n",
       "    </tr>\n",
       "  </thead>\n",
       "  <tbody>\n",
       "    <tr>\n",
       "      <th>0</th>\n",
       "      <td>4.0</td>\n",
       "      <td>3553.0</td>\n",
       "      <td>2.99</td>\n",
       "      <td>0</td>\n",
       "      <td>4+</td>\n",
       "      <td>15853568.0</td>\n",
       "      <td>Games, Strategy, Puzzle</td>\n",
       "    </tr>\n",
       "    <tr>\n",
       "      <th>1</th>\n",
       "      <td>3.5</td>\n",
       "      <td>284.0</td>\n",
       "      <td>1.99</td>\n",
       "      <td>0</td>\n",
       "      <td>4+</td>\n",
       "      <td>12328960.0</td>\n",
       "      <td>Games, Strategy, Board</td>\n",
       "    </tr>\n",
       "    <tr>\n",
       "      <th>2</th>\n",
       "      <td>3.0</td>\n",
       "      <td>8376.0</td>\n",
       "      <td>0.00</td>\n",
       "      <td>0</td>\n",
       "      <td>4+</td>\n",
       "      <td>674816.0</td>\n",
       "      <td>Games, Board, Strategy</td>\n",
       "    </tr>\n",
       "    <tr>\n",
       "      <th>3</th>\n",
       "      <td>3.5</td>\n",
       "      <td>190394.0</td>\n",
       "      <td>0.00</td>\n",
       "      <td>0</td>\n",
       "      <td>4+</td>\n",
       "      <td>21552128.0</td>\n",
       "      <td>Games, Strategy, Puzzle</td>\n",
       "    </tr>\n",
       "    <tr>\n",
       "      <th>4</th>\n",
       "      <td>3.5</td>\n",
       "      <td>28.0</td>\n",
       "      <td>2.99</td>\n",
       "      <td>0</td>\n",
       "      <td>4+</td>\n",
       "      <td>34689024.0</td>\n",
       "      <td>Games, Strategy, Board, Education</td>\n",
       "    </tr>\n",
       "    <tr>\n",
       "      <th>...</th>\n",
       "      <td>...</td>\n",
       "      <td>...</td>\n",
       "      <td>...</td>\n",
       "      <td>...</td>\n",
       "      <td>...</td>\n",
       "      <td>...</td>\n",
       "      <td>...</td>\n",
       "    </tr>\n",
       "    <tr>\n",
       "      <th>7556</th>\n",
       "      <td>3.0</td>\n",
       "      <td>6.0</td>\n",
       "      <td>0.00</td>\n",
       "      <td>0</td>\n",
       "      <td>12+</td>\n",
       "      <td>151308288.0</td>\n",
       "      <td>Games, Strategy, Entertainment, Puzzle</td>\n",
       "    </tr>\n",
       "    <tr>\n",
       "      <th>7557</th>\n",
       "      <td>5.0</td>\n",
       "      <td>30.0</td>\n",
       "      <td>0.00</td>\n",
       "      <td>0</td>\n",
       "      <td>4+</td>\n",
       "      <td>79646720.0</td>\n",
       "      <td>Games, Entertainment, Action, Strategy</td>\n",
       "    </tr>\n",
       "    <tr>\n",
       "      <th>7558</th>\n",
       "      <td>5.0</td>\n",
       "      <td>51.0</td>\n",
       "      <td>0.00</td>\n",
       "      <td>0</td>\n",
       "      <td>9+</td>\n",
       "      <td>125348864.0</td>\n",
       "      <td>Games, Simulation, Strategy</td>\n",
       "    </tr>\n",
       "    <tr>\n",
       "      <th>7559</th>\n",
       "      <td>5.0</td>\n",
       "      <td>5.0</td>\n",
       "      <td>0.00</td>\n",
       "      <td>0</td>\n",
       "      <td>4+</td>\n",
       "      <td>128687104.0</td>\n",
       "      <td>Games, Simulation, Strategy</td>\n",
       "    </tr>\n",
       "    <tr>\n",
       "      <th>7560</th>\n",
       "      <td>5.0</td>\n",
       "      <td>33.0</td>\n",
       "      <td>0.00</td>\n",
       "      <td>0</td>\n",
       "      <td>4+</td>\n",
       "      <td>8845312.0</td>\n",
       "      <td>Games, Strategy, Board, Utilities</td>\n",
       "    </tr>\n",
       "  </tbody>\n",
       "</table>\n",
       "<p>7561 rows × 7 columns</p>\n",
       "</div>"
      ],
      "text/plain": [
       "      ave_rating  rating_count  price inapp_purchase age_rating         size  \\\n",
       "0            4.0        3553.0   2.99              0         4+   15853568.0   \n",
       "1            3.5         284.0   1.99              0         4+   12328960.0   \n",
       "2            3.0        8376.0   0.00              0         4+     674816.0   \n",
       "3            3.5      190394.0   0.00              0         4+   21552128.0   \n",
       "4            3.5          28.0   2.99              0         4+   34689024.0   \n",
       "...          ...           ...    ...            ...        ...          ...   \n",
       "7556         3.0           6.0   0.00              0        12+  151308288.0   \n",
       "7557         5.0          30.0   0.00              0         4+   79646720.0   \n",
       "7558         5.0          51.0   0.00              0         9+  125348864.0   \n",
       "7559         5.0           5.0   0.00              0         4+  128687104.0   \n",
       "7560         5.0          33.0   0.00              0         4+    8845312.0   \n",
       "\n",
       "                                       genre  \n",
       "0                    Games, Strategy, Puzzle  \n",
       "1                     Games, Strategy, Board  \n",
       "2                     Games, Board, Strategy  \n",
       "3                    Games, Strategy, Puzzle  \n",
       "4          Games, Strategy, Board, Education  \n",
       "...                                      ...  \n",
       "7556  Games, Strategy, Entertainment, Puzzle  \n",
       "7557  Games, Entertainment, Action, Strategy  \n",
       "7558             Games, Simulation, Strategy  \n",
       "7559             Games, Simulation, Strategy  \n",
       "7560       Games, Strategy, Board, Utilities  \n",
       "\n",
       "[7561 rows x 7 columns]"
      ]
     },
     "execution_count": 15,
     "metadata": {},
     "output_type": "execute_result"
    }
   ],
   "source": [
    "# Impute values for column 'inapp_purchase' \n",
    "df1['inapp_purchase'].fillna(int(0), inplace = True)\n",
    "df1"
   ]
  },
  {
   "cell_type": "code",
   "execution_count": 16,
   "metadata": {},
   "outputs": [],
   "source": [
    "# Replace objects in 'inapp_purchase' with mean of in-app purchase prices of each game\n",
    "for i in range(len(df1)): \n",
    "    if df1.loc[i, 'inapp_purchase'] != 0:\n",
    "        a = df1.loc[i, 'inapp_purchase'].split(',')\n",
    "        df1.loc[i, 'inapp_purchase'] = 0\n",
    "        c = 0\n",
    "        for j in a:\n",
    "            df1.loc[i, 'inapp_purchase'] = float(df1.loc[i, 'inapp_purchase']) + float(j)\n",
    "            c += 1\n",
    "        df1.loc[i, 'inapp_purchase'] = df1.loc[i, 'inapp_purchase']/c\n",
    "df1['inapp_purchase'] = pd.to_numeric(df1['inapp_purchase'])"
   ]
  },
  {
   "cell_type": "code",
   "execution_count": 17,
   "metadata": {},
   "outputs": [],
   "source": [
    "# Remove '+' in 'age_rating' and convert to integer\n",
    "for i in range(len(df1)):\n",
    "    for j in (4,9,12,17):\n",
    "        if ('{}+'.format(j)) == str(df1.loc[i, 'age_rating']):\n",
    "            df1.loc[i, 'age_rating'] = j\n",
    "df1['age_rating'] = pd.to_numeric(df1['age_rating'])"
   ]
  },
  {
   "cell_type": "code",
   "execution_count": 18,
   "metadata": {},
   "outputs": [
    {
     "data": {
      "text/plain": [
       "['Action',\n",
       " 'Adventure',\n",
       " 'Animals & Nature',\n",
       " 'Art',\n",
       " 'Board',\n",
       " 'Books',\n",
       " 'Business',\n",
       " 'Card',\n",
       " 'Casino',\n",
       " 'Casual',\n",
       " 'Comics & Cartoons',\n",
       " 'Education',\n",
       " 'Emoji & Expressions',\n",
       " 'Entertainment',\n",
       " 'Family',\n",
       " 'Finance',\n",
       " 'Food & Drink',\n",
       " 'Games',\n",
       " 'Gaming',\n",
       " 'Health & Fitness',\n",
       " 'Kids & Family',\n",
       " 'Lifestyle',\n",
       " 'Magazines & Newspapers',\n",
       " 'Medical',\n",
       " 'Music',\n",
       " 'Navigation',\n",
       " 'News',\n",
       " 'People',\n",
       " 'Photo & Video',\n",
       " 'Places & Objects',\n",
       " 'Productivity',\n",
       " 'Puzzle',\n",
       " 'Racing',\n",
       " 'Reference',\n",
       " 'Role Playing',\n",
       " 'Shopping',\n",
       " 'Simulation',\n",
       " 'Social Networking',\n",
       " 'Sports',\n",
       " 'Sports & Activities',\n",
       " 'Stickers',\n",
       " 'Strategy',\n",
       " 'Travel',\n",
       " 'Trivia',\n",
       " 'Utilities',\n",
       " 'Weather',\n",
       " 'Word',\n",
       " 'Books',\n",
       " 'Business',\n",
       " 'Education',\n",
       " 'Entertainment',\n",
       " 'Finance',\n",
       " 'Food & Drink',\n",
       " 'Games',\n",
       " 'Health & Fitness',\n",
       " 'Lifestyle',\n",
       " 'Medical',\n",
       " 'Music',\n",
       " 'Navigation',\n",
       " 'News',\n",
       " 'Productivity',\n",
       " 'Reference',\n",
       " 'Shopping',\n",
       " 'Social Networking',\n",
       " 'Sports',\n",
       " 'Stickers',\n",
       " 'Travel',\n",
       " 'Utilities']"
      ]
     },
     "execution_count": 18,
     "metadata": {},
     "output_type": "execute_result"
    }
   ],
   "source": [
    "# Convert 'genre' to dummy variables\n",
    "genre = np.unique(list).tolist()\n",
    "\n",
    "# Remove space before some genres\n",
    "genres = []\n",
    "for i in range(len(genre)):\n",
    "    genres.append(genre[i].strip())\n",
    "genres"
   ]
  },
  {
   "cell_type": "code",
   "execution_count": 19,
   "metadata": {},
   "outputs": [],
   "source": [
    "# Convert 'genre' to dummy variables\n",
    "# As there are multiple elements in one cell, I convert 'genre' to dummy variables manually\n",
    "for g in genres:\n",
    "    df1['genre_{}'.format(g)] = 0"
   ]
  },
  {
   "cell_type": "code",
   "execution_count": 20,
   "metadata": {},
   "outputs": [
    {
     "data": {
      "text/html": [
       "<div>\n",
       "<style scoped>\n",
       "    .dataframe tbody tr th:only-of-type {\n",
       "        vertical-align: middle;\n",
       "    }\n",
       "\n",
       "    .dataframe tbody tr th {\n",
       "        vertical-align: top;\n",
       "    }\n",
       "\n",
       "    .dataframe thead th {\n",
       "        text-align: right;\n",
       "    }\n",
       "</style>\n",
       "<table border=\"1\" class=\"dataframe\">\n",
       "  <thead>\n",
       "    <tr style=\"text-align: right;\">\n",
       "      <th></th>\n",
       "      <th>ave_rating</th>\n",
       "      <th>rating_count</th>\n",
       "      <th>price</th>\n",
       "      <th>inapp_purchase</th>\n",
       "      <th>age_rating</th>\n",
       "      <th>size</th>\n",
       "      <th>genre_Action</th>\n",
       "      <th>genre_Adventure</th>\n",
       "      <th>genre_Animals &amp; Nature</th>\n",
       "      <th>genre_Art</th>\n",
       "      <th>...</th>\n",
       "      <th>genre_Social Networking</th>\n",
       "      <th>genre_Sports</th>\n",
       "      <th>genre_Sports &amp; Activities</th>\n",
       "      <th>genre_Stickers</th>\n",
       "      <th>genre_Strategy</th>\n",
       "      <th>genre_Travel</th>\n",
       "      <th>genre_Trivia</th>\n",
       "      <th>genre_Utilities</th>\n",
       "      <th>genre_Weather</th>\n",
       "      <th>genre_Word</th>\n",
       "    </tr>\n",
       "  </thead>\n",
       "  <tbody>\n",
       "    <tr>\n",
       "      <th>0</th>\n",
       "      <td>4.0</td>\n",
       "      <td>3553.0</td>\n",
       "      <td>2.99</td>\n",
       "      <td>0.0</td>\n",
       "      <td>4</td>\n",
       "      <td>15853568.0</td>\n",
       "      <td>0</td>\n",
       "      <td>0</td>\n",
       "      <td>0</td>\n",
       "      <td>0</td>\n",
       "      <td>...</td>\n",
       "      <td>0</td>\n",
       "      <td>0</td>\n",
       "      <td>0</td>\n",
       "      <td>0</td>\n",
       "      <td>1</td>\n",
       "      <td>0</td>\n",
       "      <td>0</td>\n",
       "      <td>0</td>\n",
       "      <td>0</td>\n",
       "      <td>0</td>\n",
       "    </tr>\n",
       "    <tr>\n",
       "      <th>1</th>\n",
       "      <td>3.5</td>\n",
       "      <td>284.0</td>\n",
       "      <td>1.99</td>\n",
       "      <td>0.0</td>\n",
       "      <td>4</td>\n",
       "      <td>12328960.0</td>\n",
       "      <td>0</td>\n",
       "      <td>0</td>\n",
       "      <td>0</td>\n",
       "      <td>0</td>\n",
       "      <td>...</td>\n",
       "      <td>0</td>\n",
       "      <td>0</td>\n",
       "      <td>0</td>\n",
       "      <td>0</td>\n",
       "      <td>1</td>\n",
       "      <td>0</td>\n",
       "      <td>0</td>\n",
       "      <td>0</td>\n",
       "      <td>0</td>\n",
       "      <td>0</td>\n",
       "    </tr>\n",
       "    <tr>\n",
       "      <th>2</th>\n",
       "      <td>3.0</td>\n",
       "      <td>8376.0</td>\n",
       "      <td>0.00</td>\n",
       "      <td>0.0</td>\n",
       "      <td>4</td>\n",
       "      <td>674816.0</td>\n",
       "      <td>0</td>\n",
       "      <td>0</td>\n",
       "      <td>0</td>\n",
       "      <td>0</td>\n",
       "      <td>...</td>\n",
       "      <td>0</td>\n",
       "      <td>0</td>\n",
       "      <td>0</td>\n",
       "      <td>0</td>\n",
       "      <td>1</td>\n",
       "      <td>0</td>\n",
       "      <td>0</td>\n",
       "      <td>0</td>\n",
       "      <td>0</td>\n",
       "      <td>0</td>\n",
       "    </tr>\n",
       "    <tr>\n",
       "      <th>3</th>\n",
       "      <td>3.5</td>\n",
       "      <td>190394.0</td>\n",
       "      <td>0.00</td>\n",
       "      <td>0.0</td>\n",
       "      <td>4</td>\n",
       "      <td>21552128.0</td>\n",
       "      <td>0</td>\n",
       "      <td>0</td>\n",
       "      <td>0</td>\n",
       "      <td>0</td>\n",
       "      <td>...</td>\n",
       "      <td>0</td>\n",
       "      <td>0</td>\n",
       "      <td>0</td>\n",
       "      <td>0</td>\n",
       "      <td>1</td>\n",
       "      <td>0</td>\n",
       "      <td>0</td>\n",
       "      <td>0</td>\n",
       "      <td>0</td>\n",
       "      <td>0</td>\n",
       "    </tr>\n",
       "    <tr>\n",
       "      <th>4</th>\n",
       "      <td>3.5</td>\n",
       "      <td>28.0</td>\n",
       "      <td>2.99</td>\n",
       "      <td>0.0</td>\n",
       "      <td>4</td>\n",
       "      <td>34689024.0</td>\n",
       "      <td>0</td>\n",
       "      <td>0</td>\n",
       "      <td>0</td>\n",
       "      <td>0</td>\n",
       "      <td>...</td>\n",
       "      <td>0</td>\n",
       "      <td>0</td>\n",
       "      <td>0</td>\n",
       "      <td>0</td>\n",
       "      <td>1</td>\n",
       "      <td>0</td>\n",
       "      <td>0</td>\n",
       "      <td>0</td>\n",
       "      <td>0</td>\n",
       "      <td>0</td>\n",
       "    </tr>\n",
       "    <tr>\n",
       "      <th>...</th>\n",
       "      <td>...</td>\n",
       "      <td>...</td>\n",
       "      <td>...</td>\n",
       "      <td>...</td>\n",
       "      <td>...</td>\n",
       "      <td>...</td>\n",
       "      <td>...</td>\n",
       "      <td>...</td>\n",
       "      <td>...</td>\n",
       "      <td>...</td>\n",
       "      <td>...</td>\n",
       "      <td>...</td>\n",
       "      <td>...</td>\n",
       "      <td>...</td>\n",
       "      <td>...</td>\n",
       "      <td>...</td>\n",
       "      <td>...</td>\n",
       "      <td>...</td>\n",
       "      <td>...</td>\n",
       "      <td>...</td>\n",
       "      <td>...</td>\n",
       "    </tr>\n",
       "    <tr>\n",
       "      <th>7556</th>\n",
       "      <td>3.0</td>\n",
       "      <td>6.0</td>\n",
       "      <td>0.00</td>\n",
       "      <td>0.0</td>\n",
       "      <td>12</td>\n",
       "      <td>151308288.0</td>\n",
       "      <td>0</td>\n",
       "      <td>0</td>\n",
       "      <td>0</td>\n",
       "      <td>0</td>\n",
       "      <td>...</td>\n",
       "      <td>0</td>\n",
       "      <td>0</td>\n",
       "      <td>0</td>\n",
       "      <td>0</td>\n",
       "      <td>1</td>\n",
       "      <td>0</td>\n",
       "      <td>0</td>\n",
       "      <td>0</td>\n",
       "      <td>0</td>\n",
       "      <td>0</td>\n",
       "    </tr>\n",
       "    <tr>\n",
       "      <th>7557</th>\n",
       "      <td>5.0</td>\n",
       "      <td>30.0</td>\n",
       "      <td>0.00</td>\n",
       "      <td>0.0</td>\n",
       "      <td>4</td>\n",
       "      <td>79646720.0</td>\n",
       "      <td>1</td>\n",
       "      <td>0</td>\n",
       "      <td>0</td>\n",
       "      <td>0</td>\n",
       "      <td>...</td>\n",
       "      <td>0</td>\n",
       "      <td>0</td>\n",
       "      <td>0</td>\n",
       "      <td>0</td>\n",
       "      <td>1</td>\n",
       "      <td>0</td>\n",
       "      <td>0</td>\n",
       "      <td>0</td>\n",
       "      <td>0</td>\n",
       "      <td>0</td>\n",
       "    </tr>\n",
       "    <tr>\n",
       "      <th>7558</th>\n",
       "      <td>5.0</td>\n",
       "      <td>51.0</td>\n",
       "      <td>0.00</td>\n",
       "      <td>0.0</td>\n",
       "      <td>9</td>\n",
       "      <td>125348864.0</td>\n",
       "      <td>0</td>\n",
       "      <td>0</td>\n",
       "      <td>0</td>\n",
       "      <td>0</td>\n",
       "      <td>...</td>\n",
       "      <td>0</td>\n",
       "      <td>0</td>\n",
       "      <td>0</td>\n",
       "      <td>0</td>\n",
       "      <td>1</td>\n",
       "      <td>0</td>\n",
       "      <td>0</td>\n",
       "      <td>0</td>\n",
       "      <td>0</td>\n",
       "      <td>0</td>\n",
       "    </tr>\n",
       "    <tr>\n",
       "      <th>7559</th>\n",
       "      <td>5.0</td>\n",
       "      <td>5.0</td>\n",
       "      <td>0.00</td>\n",
       "      <td>0.0</td>\n",
       "      <td>4</td>\n",
       "      <td>128687104.0</td>\n",
       "      <td>0</td>\n",
       "      <td>0</td>\n",
       "      <td>0</td>\n",
       "      <td>0</td>\n",
       "      <td>...</td>\n",
       "      <td>0</td>\n",
       "      <td>0</td>\n",
       "      <td>0</td>\n",
       "      <td>0</td>\n",
       "      <td>1</td>\n",
       "      <td>0</td>\n",
       "      <td>0</td>\n",
       "      <td>0</td>\n",
       "      <td>0</td>\n",
       "      <td>0</td>\n",
       "    </tr>\n",
       "    <tr>\n",
       "      <th>7560</th>\n",
       "      <td>5.0</td>\n",
       "      <td>33.0</td>\n",
       "      <td>0.00</td>\n",
       "      <td>0.0</td>\n",
       "      <td>4</td>\n",
       "      <td>8845312.0</td>\n",
       "      <td>0</td>\n",
       "      <td>0</td>\n",
       "      <td>0</td>\n",
       "      <td>0</td>\n",
       "      <td>...</td>\n",
       "      <td>0</td>\n",
       "      <td>0</td>\n",
       "      <td>0</td>\n",
       "      <td>0</td>\n",
       "      <td>1</td>\n",
       "      <td>0</td>\n",
       "      <td>0</td>\n",
       "      <td>1</td>\n",
       "      <td>0</td>\n",
       "      <td>0</td>\n",
       "    </tr>\n",
       "  </tbody>\n",
       "</table>\n",
       "<p>7561 rows × 53 columns</p>\n",
       "</div>"
      ],
      "text/plain": [
       "      ave_rating  rating_count  price  inapp_purchase  age_rating  \\\n",
       "0            4.0        3553.0   2.99             0.0           4   \n",
       "1            3.5         284.0   1.99             0.0           4   \n",
       "2            3.0        8376.0   0.00             0.0           4   \n",
       "3            3.5      190394.0   0.00             0.0           4   \n",
       "4            3.5          28.0   2.99             0.0           4   \n",
       "...          ...           ...    ...             ...         ...   \n",
       "7556         3.0           6.0   0.00             0.0          12   \n",
       "7557         5.0          30.0   0.00             0.0           4   \n",
       "7558         5.0          51.0   0.00             0.0           9   \n",
       "7559         5.0           5.0   0.00             0.0           4   \n",
       "7560         5.0          33.0   0.00             0.0           4   \n",
       "\n",
       "             size  genre_Action  genre_Adventure  genre_Animals & Nature  \\\n",
       "0      15853568.0             0                0                       0   \n",
       "1      12328960.0             0                0                       0   \n",
       "2        674816.0             0                0                       0   \n",
       "3      21552128.0             0                0                       0   \n",
       "4      34689024.0             0                0                       0   \n",
       "...           ...           ...              ...                     ...   \n",
       "7556  151308288.0             0                0                       0   \n",
       "7557   79646720.0             1                0                       0   \n",
       "7558  125348864.0             0                0                       0   \n",
       "7559  128687104.0             0                0                       0   \n",
       "7560    8845312.0             0                0                       0   \n",
       "\n",
       "      genre_Art  ...  genre_Social Networking  genre_Sports  \\\n",
       "0             0  ...                        0             0   \n",
       "1             0  ...                        0             0   \n",
       "2             0  ...                        0             0   \n",
       "3             0  ...                        0             0   \n",
       "4             0  ...                        0             0   \n",
       "...         ...  ...                      ...           ...   \n",
       "7556          0  ...                        0             0   \n",
       "7557          0  ...                        0             0   \n",
       "7558          0  ...                        0             0   \n",
       "7559          0  ...                        0             0   \n",
       "7560          0  ...                        0             0   \n",
       "\n",
       "      genre_Sports & Activities  genre_Stickers  genre_Strategy  genre_Travel  \\\n",
       "0                             0               0               1             0   \n",
       "1                             0               0               1             0   \n",
       "2                             0               0               1             0   \n",
       "3                             0               0               1             0   \n",
       "4                             0               0               1             0   \n",
       "...                         ...             ...             ...           ...   \n",
       "7556                          0               0               1             0   \n",
       "7557                          0               0               1             0   \n",
       "7558                          0               0               1             0   \n",
       "7559                          0               0               1             0   \n",
       "7560                          0               0               1             0   \n",
       "\n",
       "      genre_Trivia  genre_Utilities  genre_Weather  genre_Word  \n",
       "0                0                0              0           0  \n",
       "1                0                0              0           0  \n",
       "2                0                0              0           0  \n",
       "3                0                0              0           0  \n",
       "4                0                0              0           0  \n",
       "...            ...              ...            ...         ...  \n",
       "7556             0                0              0           0  \n",
       "7557             0                0              0           0  \n",
       "7558             0                0              0           0  \n",
       "7559             0                0              0           0  \n",
       "7560             0                1              0           0  \n",
       "\n",
       "[7561 rows x 53 columns]"
      ]
     },
     "execution_count": 20,
     "metadata": {},
     "output_type": "execute_result"
    }
   ],
   "source": [
    "for i in genres:\n",
    "    for j in range(len(df1)):\n",
    "        if i in df1.loc[j, 'genre']:\n",
    "            df1.loc[j, 'genre_{}'.format(i)] = 1\n",
    "df1.drop(['genre'], axis = 1, inplace = True)\n",
    "df1"
   ]
  },
  {
   "cell_type": "markdown",
   "metadata": {},
   "source": [
    "## 4. Predictive Modeling"
   ]
  },
  {
   "cell_type": "markdown",
   "metadata": {},
   "source": [
    "### 4.1 Split dataset into train/test"
   ]
  },
  {
   "cell_type": "code",
   "execution_count": 21,
   "metadata": {},
   "outputs": [],
   "source": [
    "# Split the datasets into training and testing data\n",
    "from sklearn.model_selection import train_test_split\n",
    "\n",
    "df_x = df1.drop(['ave_rating'], axis = 1)\n",
    "\n",
    "X = df_x\n",
    "y = df1['ave_rating']\n",
    "\n",
    "X_train, X_test, y_train, y_test = train_test_split(X, y, test_size = 0.20, random_state = 5)"
   ]
  },
  {
   "cell_type": "markdown",
   "metadata": {},
   "source": [
    "### 4.2 Create a pipeline"
   ]
  },
  {
   "cell_type": "code",
   "execution_count": 22,
   "metadata": {},
   "outputs": [],
   "source": [
    "# Create a pipeline of imputing empty values, creating polynomial features and feature scaling\n",
    "from sklearn.compose import ColumnTransformer\n",
    "from sklearn.impute import SimpleImputer\n",
    "from sklearn.preprocessing import PolynomialFeatures\n",
    "from sklearn.pipeline import Pipeline\n",
    "from sklearn.preprocessing import MinMaxScaler\n",
    "\n",
    "from sklearn.linear_model import LinearRegression\n",
    "from sklearn.ensemble import RandomForestRegressor\n",
    "from sklearn.ensemble import GradientBoostingRegressor\n",
    "\n",
    "from sklearn.model_selection import GridSearchCV\n",
    "from sklearn.model_selection import RandomizedSearchCV\n",
    "\n",
    "# Create a transformer\n",
    "transformer = ColumnTransformer([(\"norm1\", SimpleImputer(missing_values = np.nan, strategy = 'mean'),[2]),\n",
    "                                 ('poly', PolynomialFeatures(3),[2,3])])\n",
    "\n",
    "# Create pipelines of three different regression algorithms\n",
    "# Linear Regression pipeline\n",
    "ln_model = Pipeline(steps=([('transformer', transformer),\n",
    "                            ('scaler',MinMaxScaler()),\n",
    "                            ('LR1', LinearRegression())]))\n",
    "\n",
    "# Random Forest pipeline\n",
    "rf_model = Pipeline(steps=([('transformer', transformer),\n",
    "                            ('scaler',MinMaxScaler()),\n",
    "                            ('LR2', RandomForestRegressor())]))\n",
    "\n",
    "# Gradient Boosting pipeline\n",
    "gb_model = Pipeline(steps=([('transformer', transformer),\n",
    "                            ('scaler',MinMaxScaler()),\n",
    "                            ('LR3', GradientBoostingRegressor())]))"
   ]
  },
  {
   "cell_type": "code",
   "execution_count": 23,
   "metadata": {},
   "outputs": [
    {
     "data": {
      "text/plain": [
       "0"
      ]
     },
     "execution_count": 23,
     "metadata": {},
     "output_type": "execute_result"
    }
   ],
   "source": [
    "# Verify the number of missing value\n",
    "df1.isnull().sum().sum()"
   ]
  },
  {
   "cell_type": "markdown",
   "metadata": {},
   "source": [
    "### 4.3 Model fitting & Making prediction"
   ]
  },
  {
   "cell_type": "code",
   "execution_count": 24,
   "metadata": {},
   "outputs": [],
   "source": [
    "from sklearn.model_selection import GridSearchCV\n",
    "from sklearn.model_selection import RandomizedSearchCV\n",
    "from sklearn import metrics\n",
    "\n",
    "# Create an empty dataframe for RMSE scores\n",
    "df_rmse = pd.DataFrame(columns = ['model', 'rmse_score'])"
   ]
  },
  {
   "cell_type": "markdown",
   "metadata": {},
   "source": [
    "### 4.3.1 Linear Regression"
   ]
  },
  {
   "cell_type": "code",
   "execution_count": 25,
   "metadata": {},
   "outputs": [
    {
     "data": {
      "text/plain": [
       "LinearRegression(copy_X=True, fit_intercept=True, n_jobs=None, normalize=False)"
      ]
     },
     "execution_count": 25,
     "metadata": {},
     "output_type": "execute_result"
    }
   ],
   "source": [
    "# Have a look at the parameters\n",
    "LinearRegression()"
   ]
  },
  {
   "cell_type": "code",
   "execution_count": 26,
   "metadata": {},
   "outputs": [],
   "source": [
    "# Fit linear model into the training data and make prediction\n",
    "ln = ln_model.fit(X_train,y_train)\n",
    "y_pred1 = ln_model.predict(X_test)"
   ]
  },
  {
   "cell_type": "code",
   "execution_count": 27,
   "metadata": {},
   "outputs": [
    {
     "name": "stdout",
     "output_type": "stream",
     "text": [
      "RMSE for this model is: 0.5465356666411711\n"
     ]
    }
   ],
   "source": [
    "# Measure and record model accuracy\n",
    "rmse1 = metrics.mean_squared_error(y_test, y_pred1)\n",
    "df_rmse = df_rmse.append([{'model' : 'linear',\n",
    "                           'rmse_score' : rmse1}],\n",
    "                         ignore_index = True)\n",
    "print('RMSE for this model is: {}'.format(rmse1))"
   ]
  },
  {
   "cell_type": "markdown",
   "metadata": {},
   "source": [
    "### 4.3.2  Random Forest"
   ]
  },
  {
   "cell_type": "code",
   "execution_count": 28,
   "metadata": {},
   "outputs": [
    {
     "data": {
      "text/plain": [
       "RandomForestRegressor(bootstrap=True, ccp_alpha=0.0, criterion='mse',\n",
       "                      max_depth=None, max_features='auto', max_leaf_nodes=None,\n",
       "                      max_samples=None, min_impurity_decrease=0.0,\n",
       "                      min_impurity_split=None, min_samples_leaf=1,\n",
       "                      min_samples_split=2, min_weight_fraction_leaf=0.0,\n",
       "                      n_estimators=100, n_jobs=None, oob_score=False,\n",
       "                      random_state=None, verbose=0, warm_start=False)"
      ]
     },
     "execution_count": 28,
     "metadata": {},
     "output_type": "execute_result"
    }
   ],
   "source": [
    "# Have a look at the parameters\n",
    "RandomForestRegressor()"
   ]
  },
  {
   "cell_type": "code",
   "execution_count": 29,
   "metadata": {},
   "outputs": [],
   "source": [
    "# Fit Random Forest model into the training data and make prediction\n",
    "rf = rf_model.fit(X_train,y_train)\n",
    "y_pred2 = rf_model.predict(X_test)"
   ]
  },
  {
   "cell_type": "code",
   "execution_count": 30,
   "metadata": {},
   "outputs": [
    {
     "name": "stdout",
     "output_type": "stream",
     "text": [
      "RMSE for this model is: 0.5768405386256186\n"
     ]
    }
   ],
   "source": [
    "# Measure and record model accuracy\n",
    "rmse2 = metrics.mean_squared_error(y_test, y_pred2)\n",
    "df_rmse = df_rmse.append([{'model' : 'random forest',\n",
    "                           'rmse_score' : rmse2}],\n",
    "                         ignore_index = True)\n",
    "print('RMSE for this model is: {}'.format(rmse2))"
   ]
  },
  {
   "cell_type": "markdown",
   "metadata": {},
   "source": [
    "#### Grid Search"
   ]
  },
  {
   "cell_type": "code",
   "execution_count": 31,
   "metadata": {},
   "outputs": [
    {
     "name": "stdout",
     "output_type": "stream",
     "text": [
      "Fitting 3 folds for each of 45 candidates, totalling 135 fits\n"
     ]
    },
    {
     "name": "stderr",
     "output_type": "stream",
     "text": [
      "[Parallel(n_jobs=-1)]: Using backend LokyBackend with 8 concurrent workers.\n",
      "[Parallel(n_jobs=-1)]: Done  25 tasks      | elapsed:    3.8s\n",
      "[Parallel(n_jobs=-1)]: Done 135 out of 135 | elapsed:   22.9s finished\n"
     ]
    },
    {
     "data": {
      "text/plain": [
       "Pipeline(memory=None,\n",
       "         steps=[('transformer',\n",
       "                 ColumnTransformer(n_jobs=None, remainder='drop',\n",
       "                                   sparse_threshold=0.3,\n",
       "                                   transformer_weights=None,\n",
       "                                   transformers=[('norm1',\n",
       "                                                  SimpleImputer(add_indicator=False,\n",
       "                                                                copy=True,\n",
       "                                                                fill_value=None,\n",
       "                                                                missing_values=nan,\n",
       "                                                                strategy='mean',\n",
       "                                                                verbose=0),\n",
       "                                                  [2]),\n",
       "                                                 ('poly',\n",
       "                                                  PolynomialFeatures(degree=3,\n",
       "                                                                     include_bias=True,\n",
       "                                                                     interaction_only=False,\n",
       "                                                                     ord...\n",
       "                 RandomForestRegressor(bootstrap=True, ccp_alpha=0.0,\n",
       "                                       criterion='mse', max_depth=None,\n",
       "                                       max_features='auto', max_leaf_nodes=None,\n",
       "                                       max_samples=None,\n",
       "                                       min_impurity_decrease=0.0,\n",
       "                                       min_impurity_split=None,\n",
       "                                       min_samples_leaf=3, min_samples_split=3,\n",
       "                                       min_weight_fraction_leaf=0.0,\n",
       "                                       n_estimators=50, n_jobs=None,\n",
       "                                       oob_score=False, random_state=None,\n",
       "                                       verbose=0, warm_start=False))],\n",
       "         verbose=False)"
      ]
     },
     "execution_count": 31,
     "metadata": {},
     "output_type": "execute_result"
    }
   ],
   "source": [
    "# Try Grid Search for hyperparameter tuning\n",
    "\n",
    "param_grid = {\n",
    "    'LR2__min_samples_split': [1, 2, 3],\n",
    "    'LR2__min_samples_leaf': [1, 2, 3],\n",
    "    'LR2__n_estimators': [20, 50, 100, 200, 300]\n",
    "}\n",
    "\n",
    "grid_search = GridSearchCV(estimator = rf_model, param_grid = param_grid, cv = 3, n_jobs = -1, verbose = 2)\n",
    "grid_search.fit(X_train, y_train)\n",
    "\n",
    "best_grid = grid_search.best_estimator_\n",
    "best_grid"
   ]
  },
  {
   "cell_type": "code",
   "execution_count": 32,
   "metadata": {},
   "outputs": [
    {
     "name": "stdout",
     "output_type": "stream",
     "text": [
      "RMSE for this model is: 0.5597259290465386\n"
     ]
    }
   ],
   "source": [
    "# Measure and record model accuracy\n",
    "y_pred3 = best_grid.predict(X_test)\n",
    "rmse3 = metrics.mean_squared_error(y_test, y_pred3)\n",
    "df_rmse = df_rmse.append([{'model' : 'random forest_grid',\n",
    "                           'rmse_score' : rmse3}],\n",
    "                         ignore_index = True)\n",
    "print('RMSE for this model is: {}'.format(rmse3))"
   ]
  },
  {
   "cell_type": "markdown",
   "metadata": {},
   "source": [
    "#### Randomized Search"
   ]
  },
  {
   "cell_type": "code",
   "execution_count": 33,
   "metadata": {
    "scrolled": true
   },
   "outputs": [
    {
     "name": "stdout",
     "output_type": "stream",
     "text": [
      "Fitting 3 folds for each of 10 candidates, totalling 30 fits\n"
     ]
    },
    {
     "name": "stderr",
     "output_type": "stream",
     "text": [
      "[Parallel(n_jobs=-1)]: Using backend LokyBackend with 8 concurrent workers.\n",
      "[Parallel(n_jobs=-1)]: Done  30 out of  30 | elapsed:    8.9s finished\n"
     ]
    },
    {
     "data": {
      "text/plain": [
       "Pipeline(memory=None,\n",
       "         steps=[('transformer',\n",
       "                 ColumnTransformer(n_jobs=None, remainder='drop',\n",
       "                                   sparse_threshold=0.3,\n",
       "                                   transformer_weights=None,\n",
       "                                   transformers=[('norm1',\n",
       "                                                  SimpleImputer(add_indicator=False,\n",
       "                                                                copy=True,\n",
       "                                                                fill_value=None,\n",
       "                                                                missing_values=nan,\n",
       "                                                                strategy='mean',\n",
       "                                                                verbose=0),\n",
       "                                                  [2]),\n",
       "                                                 ('poly',\n",
       "                                                  PolynomialFeatures(degree=3,\n",
       "                                                                     include_bias=True,\n",
       "                                                                     interaction_only=False,\n",
       "                                                                     ord...\n",
       "                 RandomForestRegressor(bootstrap=True, ccp_alpha=0.0,\n",
       "                                       criterion='mse', max_depth=None,\n",
       "                                       max_features='auto', max_leaf_nodes=None,\n",
       "                                       max_samples=None,\n",
       "                                       min_impurity_decrease=0.0,\n",
       "                                       min_impurity_split=None,\n",
       "                                       min_samples_leaf=10, min_samples_split=8,\n",
       "                                       min_weight_fraction_leaf=0.0,\n",
       "                                       n_estimators=340, n_jobs=None,\n",
       "                                       oob_score=False, random_state=None,\n",
       "                                       verbose=0, warm_start=False))],\n",
       "         verbose=False)"
      ]
     },
     "execution_count": 33,
     "metadata": {},
     "output_type": "execute_result"
    }
   ],
   "source": [
    "# Try Randomized Search for hyperparameter tuning\n",
    "\n",
    "param_dist = {\n",
    "               'LR2__min_samples_split': np.linspace(1, 10, 8, dtype = int),\n",
    "               'LR2__min_samples_leaf': np.linspace(1, 10, 8, dtype = int),\n",
    "               'LR2__n_estimators': np.linspace(20, 500, 10, dtype = int)}\n",
    "\n",
    "random_search = RandomizedSearchCV(estimator = rf_model, param_distributions = param_dist, \n",
    "                                   cv = 3, n_jobs = -1, verbose = 2,n_iter = 10)\n",
    "random_search.fit(X_train, y_train)\n",
    "\n",
    "best_random= random_search.best_estimator_\n",
    "best_random"
   ]
  },
  {
   "cell_type": "code",
   "execution_count": 34,
   "metadata": {},
   "outputs": [
    {
     "name": "stdout",
     "output_type": "stream",
     "text": [
      "RMSE for this model is: 0.5453840811396887\n"
     ]
    }
   ],
   "source": [
    "# Measure and record model accuracy\n",
    "y_pred4 = best_random.predict(X_test)\n",
    "rmse4 = metrics.mean_squared_error(y_test, y_pred4)\n",
    "df_rmse = df_rmse.append([{'model' : 'random forest_randomized',\n",
    "                           'rmse_score' : rmse4}],\n",
    "                         ignore_index = True)\n",
    "print('RMSE for this model is: {}'.format(rmse4))"
   ]
  },
  {
   "cell_type": "markdown",
   "metadata": {},
   "source": [
    "### 4.3.3 Gradient Boosting Regression"
   ]
  },
  {
   "cell_type": "code",
   "execution_count": 35,
   "metadata": {},
   "outputs": [
    {
     "data": {
      "text/plain": [
       "GradientBoostingRegressor(alpha=0.9, ccp_alpha=0.0, criterion='friedman_mse',\n",
       "                          init=None, learning_rate=0.1, loss='ls', max_depth=3,\n",
       "                          max_features=None, max_leaf_nodes=None,\n",
       "                          min_impurity_decrease=0.0, min_impurity_split=None,\n",
       "                          min_samples_leaf=1, min_samples_split=2,\n",
       "                          min_weight_fraction_leaf=0.0, n_estimators=100,\n",
       "                          n_iter_no_change=None, presort='deprecated',\n",
       "                          random_state=None, subsample=1.0, tol=0.0001,\n",
       "                          validation_fraction=0.1, verbose=0, warm_start=False)"
      ]
     },
     "execution_count": 35,
     "metadata": {},
     "output_type": "execute_result"
    }
   ],
   "source": [
    "# Have a look at the parameters\n",
    "GradientBoostingRegressor()"
   ]
  },
  {
   "cell_type": "code",
   "execution_count": 36,
   "metadata": {},
   "outputs": [],
   "source": [
    "# Fit Gradient Boosting model into the training data and make prediction\n",
    "gb = gb_model.fit(X_train,y_train)\n",
    "y_pred5 = gb_model.predict(X_test)"
   ]
  },
  {
   "cell_type": "code",
   "execution_count": 37,
   "metadata": {},
   "outputs": [
    {
     "name": "stdout",
     "output_type": "stream",
     "text": [
      "RMSE for this model is: 0.5449287389864592\n"
     ]
    }
   ],
   "source": [
    "# Measure and record model accuracy\n",
    "rmse5 = metrics.mean_squared_error(y_test, y_pred5)\n",
    "df_rmse = df_rmse.append([{'model' : 'gradient boosting',\n",
    "                           'rmse_score' : rmse5}],\n",
    "                         ignore_index = True)\n",
    "print('RMSE for this model is: {}'.format(rmse5))"
   ]
  },
  {
   "cell_type": "markdown",
   "metadata": {},
   "source": [
    "#### Grid Search"
   ]
  },
  {
   "cell_type": "code",
   "execution_count": 38,
   "metadata": {
    "scrolled": true
   },
   "outputs": [
    {
     "name": "stdout",
     "output_type": "stream",
     "text": [
      "Fitting 3 folds for each of 300 candidates, totalling 900 fits\n"
     ]
    },
    {
     "name": "stderr",
     "output_type": "stream",
     "text": [
      "[Parallel(n_jobs=-1)]: Using backend LokyBackend with 8 concurrent workers.\n",
      "[Parallel(n_jobs=-1)]: Done  34 tasks      | elapsed:    1.5s\n",
      "[Parallel(n_jobs=-1)]: Done 194 tasks      | elapsed:   14.5s\n",
      "[Parallel(n_jobs=-1)]: Done 397 tasks      | elapsed:   32.9s\n",
      "[Parallel(n_jobs=-1)]: Done 680 tasks      | elapsed:   57.5s\n",
      "[Parallel(n_jobs=-1)]: Done 900 out of 900 | elapsed:  1.3min finished\n"
     ]
    },
    {
     "data": {
      "text/plain": [
       "Pipeline(memory=None,\n",
       "         steps=[('transformer',\n",
       "                 ColumnTransformer(n_jobs=None, remainder='drop',\n",
       "                                   sparse_threshold=0.3,\n",
       "                                   transformer_weights=None,\n",
       "                                   transformers=[('norm1',\n",
       "                                                  SimpleImputer(add_indicator=False,\n",
       "                                                                copy=True,\n",
       "                                                                fill_value=None,\n",
       "                                                                missing_values=nan,\n",
       "                                                                strategy='mean',\n",
       "                                                                verbose=0),\n",
       "                                                  [2]),\n",
       "                                                 ('poly',\n",
       "                                                  PolynomialFeatures(degree=3,\n",
       "                                                                     include_bias=True,\n",
       "                                                                     interaction_only=False,\n",
       "                                                                     ord...\n",
       "                                           learning_rate=0.1, loss='ls',\n",
       "                                           max_depth=2, max_features=None,\n",
       "                                           max_leaf_nodes=None,\n",
       "                                           min_impurity_decrease=0.0,\n",
       "                                           min_impurity_split=None,\n",
       "                                           min_samples_leaf=1,\n",
       "                                           min_samples_split=2,\n",
       "                                           min_weight_fraction_leaf=0.0,\n",
       "                                           n_estimators=50,\n",
       "                                           n_iter_no_change=None,\n",
       "                                           presort='deprecated',\n",
       "                                           random_state=None, subsample=1.0,\n",
       "                                           tol=0.0001, validation_fraction=0.1,\n",
       "                                           verbose=0, warm_start=False))],\n",
       "         verbose=False)"
      ]
     },
     "execution_count": 38,
     "metadata": {},
     "output_type": "execute_result"
    }
   ],
   "source": [
    "# Try Grid Search for hyperparameter tuning\n",
    "\n",
    "param_grid = {\n",
    "    'LR3__max_depth': [2, 3, 4, 5],\n",
    "    'LR3__learning_rate': [0.03, 0.05, 0.1, 0.15, 0.2],\n",
    "    'LR3__n_estimators': [30, 50, 100, 200, 400],\n",
    "    'LR3__min_samples_split': [1, 2, 3]\n",
    "}\n",
    "\n",
    "grid_search = GridSearchCV(estimator = gb_model, param_grid = param_grid, cv = 3, n_jobs = -1, verbose = 2)\n",
    "grid_search.fit(X_train, y_train)\n",
    "\n",
    "best_grid = grid_search.best_estimator_\n",
    "best_grid"
   ]
  },
  {
   "cell_type": "code",
   "execution_count": 39,
   "metadata": {},
   "outputs": [
    {
     "name": "stdout",
     "output_type": "stream",
     "text": [
      "RMSE for this model is: 0.5425675386594339\n"
     ]
    }
   ],
   "source": [
    "# Measure and record model accuracy\n",
    "y_pred6 = best_grid.predict(X_test)\n",
    "rmse6 = metrics.mean_squared_error(y_test, y_pred6)\n",
    "df_rmse = df_rmse.append([{'model' : 'gradient boosting_grid',\n",
    "                           'rmse_score' : rmse6}], \n",
    "                         ignore_index = True)\n",
    "print('RMSE for this model is: {}'.format(rmse6))"
   ]
  },
  {
   "cell_type": "markdown",
   "metadata": {},
   "source": [
    "#### Randomized Search"
   ]
  },
  {
   "cell_type": "code",
   "execution_count": 40,
   "metadata": {
    "scrolled": true
   },
   "outputs": [
    {
     "name": "stdout",
     "output_type": "stream",
     "text": [
      "Fitting 3 folds for each of 10 candidates, totalling 30 fits\n"
     ]
    },
    {
     "name": "stderr",
     "output_type": "stream",
     "text": [
      "[Parallel(n_jobs=-1)]: Using backend LokyBackend with 8 concurrent workers.\n",
      "[Parallel(n_jobs=-1)]: Done  30 out of  30 | elapsed:    6.7s finished\n"
     ]
    },
    {
     "data": {
      "text/plain": [
       "Pipeline(memory=None,\n",
       "         steps=[('transformer',\n",
       "                 ColumnTransformer(n_jobs=None, remainder='drop',\n",
       "                                   sparse_threshold=0.3,\n",
       "                                   transformer_weights=None,\n",
       "                                   transformers=[('norm1',\n",
       "                                                  SimpleImputer(add_indicator=False,\n",
       "                                                                copy=True,\n",
       "                                                                fill_value=None,\n",
       "                                                                missing_values=nan,\n",
       "                                                                strategy='mean',\n",
       "                                                                verbose=0),\n",
       "                                                  [2]),\n",
       "                                                 ('poly',\n",
       "                                                  PolynomialFeatures(degree=3,\n",
       "                                                                     include_bias=True,\n",
       "                                                                     interaction_only=False,\n",
       "                                                                     ord...\n",
       "                                           learning_rate=0.16142857142857142,\n",
       "                                           loss='ls', max_depth=1,\n",
       "                                           max_features=None,\n",
       "                                           max_leaf_nodes=None,\n",
       "                                           min_impurity_decrease=0.0,\n",
       "                                           min_impurity_split=None,\n",
       "                                           min_samples_leaf=1,\n",
       "                                           min_samples_split=5,\n",
       "                                           min_weight_fraction_leaf=0.0,\n",
       "                                           n_estimators=111,\n",
       "                                           n_iter_no_change=None,\n",
       "                                           presort='deprecated',\n",
       "                                           random_state=None, subsample=1.0,\n",
       "                                           tol=0.0001, validation_fraction=0.1,\n",
       "                                           verbose=0, warm_start=False))],\n",
       "         verbose=False)"
      ]
     },
     "execution_count": 40,
     "metadata": {},
     "output_type": "execute_result"
    }
   ],
   "source": [
    "# Try Randomized Search for hyperparameter tuning\n",
    "\n",
    "param_dist = {\n",
    "               'LR3__max_depth': np.linspace(1, 10, 5, dtype = int),\n",
    "               'LR3__learning_rate': np.linspace(0.03, 0.95, 8, dtype = float),\n",
    "               'LR3__n_estimators': np.linspace(30, 600, 8, dtype = int),\n",
    "               'LR3__min_samples_split': np.linspace(1, 5, 3, dtype = int)}\n",
    "\n",
    "random_search = RandomizedSearchCV(estimator = gb_model, param_distributions = param_dist, \n",
    "                                   cv = 3, n_jobs = -1, verbose = 2,n_iter = 10)\n",
    "random_search.fit(X_train, y_train)\n",
    "\n",
    "best_random= random_search.best_estimator_\n",
    "best_random"
   ]
  },
  {
   "cell_type": "code",
   "execution_count": 41,
   "metadata": {},
   "outputs": [
    {
     "name": "stdout",
     "output_type": "stream",
     "text": [
      "RMSE for this model is: 0.5412445223605993\n"
     ]
    }
   ],
   "source": [
    "# Measure and record model accuracy\n",
    "y_pred7 = best_random.predict(X_test)\n",
    "rmse7 = metrics.mean_squared_error(y_test, y_pred7)\n",
    "df_rmse = df_rmse.append([{'model' : 'gradient boosting_randomized',\n",
    "                           'rmse_score' : rmse7}], \n",
    "                         ignore_index = True)\n",
    "print('RMSE for this model is: {}'.format(rmse7))"
   ]
  },
  {
   "cell_type": "markdown",
   "metadata": {},
   "source": [
    "## 5. Model Comparasion & Selection"
   ]
  },
  {
   "cell_type": "code",
   "execution_count": 42,
   "metadata": {},
   "outputs": [
    {
     "data": {
      "text/html": [
       "<div>\n",
       "<style scoped>\n",
       "    .dataframe tbody tr th:only-of-type {\n",
       "        vertical-align: middle;\n",
       "    }\n",
       "\n",
       "    .dataframe tbody tr th {\n",
       "        vertical-align: top;\n",
       "    }\n",
       "\n",
       "    .dataframe thead th {\n",
       "        text-align: right;\n",
       "    }\n",
       "</style>\n",
       "<table border=\"1\" class=\"dataframe\">\n",
       "  <thead>\n",
       "    <tr style=\"text-align: right;\">\n",
       "      <th></th>\n",
       "      <th>model</th>\n",
       "      <th>rmse_score</th>\n",
       "    </tr>\n",
       "  </thead>\n",
       "  <tbody>\n",
       "    <tr>\n",
       "      <th>0</th>\n",
       "      <td>gradient boosting_randomized</td>\n",
       "      <td>0.541245</td>\n",
       "    </tr>\n",
       "    <tr>\n",
       "      <th>1</th>\n",
       "      <td>gradient boosting_grid</td>\n",
       "      <td>0.542568</td>\n",
       "    </tr>\n",
       "    <tr>\n",
       "      <th>2</th>\n",
       "      <td>gradient boosting</td>\n",
       "      <td>0.544929</td>\n",
       "    </tr>\n",
       "    <tr>\n",
       "      <th>3</th>\n",
       "      <td>random forest_randomized</td>\n",
       "      <td>0.545384</td>\n",
       "    </tr>\n",
       "    <tr>\n",
       "      <th>4</th>\n",
       "      <td>linear</td>\n",
       "      <td>0.546536</td>\n",
       "    </tr>\n",
       "    <tr>\n",
       "      <th>5</th>\n",
       "      <td>random forest_grid</td>\n",
       "      <td>0.559726</td>\n",
       "    </tr>\n",
       "    <tr>\n",
       "      <th>6</th>\n",
       "      <td>random forest</td>\n",
       "      <td>0.576841</td>\n",
       "    </tr>\n",
       "  </tbody>\n",
       "</table>\n",
       "</div>"
      ],
      "text/plain": [
       "                          model  rmse_score\n",
       "0  gradient boosting_randomized    0.541245\n",
       "1        gradient boosting_grid    0.542568\n",
       "2             gradient boosting    0.544929\n",
       "3      random forest_randomized    0.545384\n",
       "4                        linear    0.546536\n",
       "5            random forest_grid    0.559726\n",
       "6                 random forest    0.576841"
      ]
     },
     "metadata": {},
     "output_type": "display_data"
    }
   ],
   "source": [
    "# Sort df_rmse in acsending order and display the dataframe\n",
    "df_rmse.sort_values(['rmse_score'], ascending = True, inplace = True)\n",
    "df_rmse.reset_index(inplace = True, drop = True)\n",
    "display(df_rmse)"
   ]
  },
  {
   "cell_type": "code",
   "execution_count": 43,
   "metadata": {},
   "outputs": [
    {
     "data": {
      "image/png": "[encoded data removed]",
      "text/plain": [
       "<Figure size 432x288 with 1 Axes>"
      ]
     },
     "metadata": {
      "needs_background": "light"
     },
     "output_type": "display_data"
    }
   ],
   "source": [
    "# Plot the dataframe in a line chart\n",
    "df_rmse.plot(x = 'model',\n",
    "             y = 'rmse_score',\n",
    "             title = 'RMSE of models')\n",
    "plt.xticks(range(len(df_rmse['model'])),\n",
    "           df_rmse['model'],\n",
    "           fontsize = 9,\n",
    "           rotation = 30)\n",
    "plt.show()"
   ]
  },
  {
   "cell_type": "markdown",
   "metadata": {},
   "source": [
    "## 6. Conclusion"
   ]
  },
  {
   "cell_type": "markdown",
   "metadata": {},
   "source": [
    "As we can see from the above results, although the differences in RMSE scores are not obvious, Gradient Boosting Methods have best predictions with lowest RMSE scores. Linear Regression performs slightly better than Random Forest, which is beyond my expectations. The overall accuracy of models on this dataset is: Gradient Boosting > Linear > Random Forest.\n",
    "\n",
    "As for Hyperparameter Tuning methods, I tried Grid Search and Randomized Search. The result suggests that Randomized Research performs better on both Gradient Boosting and Random Forest model (Linear model does not need a hyperparameter tuning). Thus, the effectiveness of Hyperparameter Tuning methods here is: Randomized Research > Grid Research. This result could be influenced by the parameters I choose. \n",
    "\n",
    "Thus, I choose the Gradient Boosting Model with Randomized Research hyperparameter tuning method as my final model to make prediction. "
   ]
  },
  {
   "cell_type": "code",
   "execution_count": 44,
   "metadata": {},
   "outputs": [
    {
     "data": {
      "text/html": [
       "<div>\n",
       "<style scoped>\n",
       "    .dataframe tbody tr th:only-of-type {\n",
       "        vertical-align: middle;\n",
       "    }\n",
       "\n",
       "    .dataframe tbody tr th {\n",
       "        vertical-align: top;\n",
       "    }\n",
       "\n",
       "    .dataframe thead th {\n",
       "        text-align: right;\n",
       "    }\n",
       "</style>\n",
       "<table border=\"1\" class=\"dataframe\">\n",
       "  <thead>\n",
       "    <tr style=\"text-align: right;\">\n",
       "      <th></th>\n",
       "      <th>pred</th>\n",
       "    </tr>\n",
       "  </thead>\n",
       "  <tbody>\n",
       "    <tr>\n",
       "      <th>0</th>\n",
       "      <td>4.187498</td>\n",
       "    </tr>\n",
       "    <tr>\n",
       "      <th>1</th>\n",
       "      <td>4.225002</td>\n",
       "    </tr>\n",
       "    <tr>\n",
       "      <th>2</th>\n",
       "      <td>4.143902</td>\n",
       "    </tr>\n",
       "    <tr>\n",
       "      <th>3</th>\n",
       "      <td>4.146715</td>\n",
       "    </tr>\n",
       "    <tr>\n",
       "      <th>4</th>\n",
       "      <td>4.091650</td>\n",
       "    </tr>\n",
       "    <tr>\n",
       "      <th>...</th>\n",
       "      <td>...</td>\n",
       "    </tr>\n",
       "    <tr>\n",
       "      <th>1508</th>\n",
       "      <td>4.225002</td>\n",
       "    </tr>\n",
       "    <tr>\n",
       "      <th>1509</th>\n",
       "      <td>4.187498</td>\n",
       "    </tr>\n",
       "    <tr>\n",
       "      <th>1510</th>\n",
       "      <td>4.187498</td>\n",
       "    </tr>\n",
       "    <tr>\n",
       "      <th>1511</th>\n",
       "      <td>4.041565</td>\n",
       "    </tr>\n",
       "    <tr>\n",
       "      <th>1512</th>\n",
       "      <td>3.942220</td>\n",
       "    </tr>\n",
       "  </tbody>\n",
       "</table>\n",
       "<p>1513 rows × 1 columns</p>\n",
       "</div>"
      ],
      "text/plain": [
       "          pred\n",
       "0     4.187498\n",
       "1     4.225002\n",
       "2     4.143902\n",
       "3     4.146715\n",
       "4     4.091650\n",
       "...        ...\n",
       "1508  4.225002\n",
       "1509  4.187498\n",
       "1510  4.187498\n",
       "1511  4.041565\n",
       "1512  3.942220\n",
       "\n",
       "[1513 rows x 1 columns]"
      ]
     },
     "execution_count": 44,
     "metadata": {},
     "output_type": "execute_result"
    }
   ],
   "source": [
    "# Create a dataframe of the final testing prediction\n",
    "df_test_result = pd.DataFrame(y_pred7, columns = ['pred'])\n",
    "df_test_result"
   ]
  },
  {
   "cell_type": "markdown",
   "metadata": {},
   "source": [
    "## 7. Applications & Limitations"
   ]
  },
  {
   "cell_type": "markdown",
   "metadata": {},
   "source": [
    "This program can be used to predict the average user ratings of mobile stratrgy games, and provide some useful instructions to mobile strategy game developers on the features of a more popular mobile game. App developers can use this model to predict whether their product would be rated a higher or lower scoro (only for reference).\n",
    "\n",
    "However, there are a lot of limitations on this model. Firstly, there are only limited features used to train the model, many of which do not have strong connections to the target variable. Besides, I dropped all the columns with  descriptive words as they are useless in my model. If the 'Name', 'Subtitle' and 'Description' features are explored using Text Mining, the result would be much better, I believe. Since Text Mining is not covered in this course, I will try this method on the dataset in the future. Moreover, I only tried 3 different regression models and used limited number of hyperparameters to control the total runtime. I believe the results could be better if I have more time to try different parameter combos and models. \n",
    "\n",
    "Thank you!"
   ]
  },
  {
   "cell_type": "code",
   "execution_count": 45,
   "metadata": {},
   "outputs": [
    {
     "name": "stdout",
     "output_type": "stream",
     "text": [
      "Note: you may need to restart the kernel to use updated packages.\n"
     ]
    }
   ],
   "source": [
    "# pip freeze > requirement.txt"
   ]
  }
 ],
 "metadata": {
  "kernelspec": {
   "display_name": "Python 3.7 (tensorflow)",
   "language": "python",
   "name": "tensorflow"
  },
  "language_info": {
   "codemirror_mode": {
    "name": "ipython",
    "version": 3
   },
   "file_extension": ".py",
   "mimetype": "text/x-python",
   "name": "python",
   "nbconvert_exporter": "python",
   "pygments_lexer": "ipython3",
   "version": "3.7.6"
  }
 },
 "nbformat": 4,
 "nbformat_minor": 2
}
